{
 "cells": [
  {
   "cell_type": "code",
   "execution_count": 1,
   "metadata": {},
   "outputs": [],
   "source": [
    "import pandas as pd\n",
    "from Utilities.references import extract_refs, read_refs"
   ]
  },
  {
   "cell_type": "code",
   "execution_count": null,
   "metadata": {},
   "outputs": [],
   "source": [
    "# ref_xlsx_path = './data/references/reference.xlsx'\n",
    "# extract_refs(ref_xlsx_path)\n",
    "\n",
    "# ref_path = './data/references/references.json'\n",
    "# references = read_refs(ref_path)\n",
    "\n",
    "# data_path = './data/road_casualty_dataset.csv'\n",
    "# data_df = pd.read_csv(data_path)"
   ]
  },
  {
   "cell_type": "code",
   "execution_count": 11,
   "metadata": {},
   "outputs": [],
   "source": [
    "data_path = './data/road_casualty_dataset.csv'\n",
    "\n",
    "# Importing the dataset and removing unnecessary columns\n",
    "data_df = pd.read_csv(data_path, na_values=['-1', -1]).reset_index()\\\n",
    "    .drop(columns=['index', 'status', 'accident_year',\n",
    "                   'accident_reference', 'casualty_reference',\n",
    "                   'casualty_type', 'lsoa_of_casualty'])"
   ]
  },
  {
   "cell_type": "code",
   "execution_count": 12,
   "metadata": {},
   "outputs": [
    {
     "data": {
      "text/plain": [
       "accident_index                           0\n",
       "vehicle_reference                        0\n",
       "casualty_class                           0\n",
       "sex_of_casualty                        448\n",
       "age_of_casualty                       1350\n",
       "age_band_of_casualty                  1350\n",
       "casualty_severity                        0\n",
       "pedestrian_location                      0\n",
       "pedestrian_movement                      0\n",
       "car_passenger                          314\n",
       "bus_or_coach_passenger                  23\n",
       "pedestrian_road_maintenance_worker     113\n",
       "casualty_home_area_type               5498\n",
       "casualty_imd_decile                   5784\n",
       "dtype: int64"
      ]
     },
     "execution_count": 12,
     "metadata": {},
     "output_type": "execute_result"
    }
   ],
   "source": [
    "data_df.isnull().sum()"
   ]
  },
  {
   "cell_type": "code",
   "execution_count": 14,
   "metadata": {},
   "outputs": [
    {
     "data": {
      "text/plain": [
       "accident_index                          0\n",
       "vehicle_reference                       0\n",
       "casualty_class                          0\n",
       "sex_of_casualty                       346\n",
       "age_of_casualty                       789\n",
       "age_band_of_casualty                  789\n",
       "casualty_severity                       0\n",
       "pedestrian_location                     0\n",
       "pedestrian_movement                     0\n",
       "car_passenger                         246\n",
       "bus_or_coach_passenger                 11\n",
       "pedestrian_road_maintenance_worker     99\n",
       "casualty_home_area_type                 0\n",
       "casualty_imd_decile                     0\n",
       "dtype: int64"
      ]
     },
     "execution_count": 14,
     "metadata": {},
     "output_type": "execute_result"
    }
   ],
   "source": [
    "data_df = data_df.dropna(subset=['casualty_imd_decile', 'casualty_home_area_type'])\n",
    "data_df.isnull().sum()"
   ]
  },
  {
   "cell_type": "code",
   "execution_count": null,
   "metadata": {},
   "outputs": [],
   "source": []
  },
  {
   "cell_type": "code",
   "execution_count": null,
   "metadata": {},
   "outputs": [],
   "source": [
    "from sklearn.linear_model import LinearRegression\n",
    "\n",
    "# Assuming df is your DataFrame and 'target' is the column with missing values\n",
    "train_df = df[df['target'].notnull()]\n",
    "predict_df = df[df['target'].isnull()]\n",
    "\n",
    "# Split into X (features) and y (target)\n",
    "X_train = train_df.drop('target', axis=1)\n",
    "y_train = train_df['target']\n",
    "X_predict = predict_df.drop('target', axis=1)\n",
    "\n",
    "# Create and train the model\n",
    "model = LinearRegression()\n",
    "model.fit(X_train, y_train)\n",
    "\n",
    "# Predict the missing values\n",
    "y_predict = model.predict(X_predict)\n",
    "\n",
    "# Fill the missing values in the original DataFrame\n",
    "df.loc[df['target'].isnull(), 'target'] = y_predict\n"
   ]
  }
 ],
 "metadata": {
  "kernelspec": {
   "display_name": ".venv",
   "language": "python",
   "name": "python3"
  },
  "language_info": {
   "codemirror_mode": {
    "name": "ipython",
    "version": 3
   },
   "file_extension": ".py",
   "mimetype": "text/x-python",
   "name": "python",
   "nbconvert_exporter": "python",
   "pygments_lexer": "ipython3",
   "version": "3.12.1"
  }
 },
 "nbformat": 4,
 "nbformat_minor": 2
}
